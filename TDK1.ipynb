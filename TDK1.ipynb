{
  "cells": [
    {
      "cell_type": "code",
      "execution_count": null,
      "metadata": {
        "collapsed": true,
        "id": "wbZI8kPkqcoi"
      },
      "outputs": [],
      "source": [
        "#!pip install gtfs_functions\n",
        "#!pip install KeplerGl\n",
        "#!pip install keplergl jupyter\n",
        "#!jupyter nbextension install --py --symlink --sys-prefix keplergl\n",
        "#!jupyter nbextension enable --py --sys-prefix keplergl\n",
        "#!jupyter nbextension enable --py --sys-prefix widgetsnbextension\n",
        "#!pip install gtfs_functions matplotlib basemap\n",
        "import matplotlib.pyplot as plt\n",
        "from mpl_toolkits.basemap import Basemap\n",
        "import gtfs_functions as gtfs\n",
        "from gtfs_functions import Feed\n",
        "import networkx as nx\n",
        "import geopandas as gpd\n",
        "import folium\n",
        "from shapely.geometry import Point, LineString\n",
        "from folium.plugins import MarkerCluster\n",
        "#import keplergl as kp\n",
        "from google.colab import output\n",
        "from IPython.display import display\n",
        "import pandas as pd\n",
        "from gtfs_functions.gtfs_plots import map_gdf\n",
        "import plotly.graph_objs as go\n",
        "import matplotlib.colors as mcolors"
      ]
    },
    {
      "cell_type": "code",
      "execution_count": null,
      "metadata": {
        "id": "IjGocdufqjnb"
      },
      "outputs": [],
      "source": [
        "feed = Feed(\"budapest_gtfs.zip\", time_windows=[6, 7]) #itt változtathatunk az időintervallumon\n",
        "#feed = Feed(\"budapest_gtfs.zip\")\n",
        "routes = feed.routes\n",
        "trips = feed.trips\n",
        "stops = feed.stops\n",
        "stop_times = feed.stop_times\n",
        "shapes = feed.shapes"
      ]
    },
    {
      "cell_type": "code",
      "execution_count": null,
      "metadata": {
        "id": "qwsioW_axDe8"
      },
      "outputs": [],
      "source": [
        "segments_gdf = feed.segments\n",
        "segments_gdf.head(2)\n",
        "#segments_gdf.info()"
      ]
    },
    {
      "cell_type": "code",
      "execution_count": null,
      "metadata": {
        "id": "gVbjxFKgxD8M"
      },
      "outputs": [],
      "source": [
        "segments_freq = feed.segments_freq\n",
        "segments_freq.head(2)\n",
        "#print(type(segments_freq))"
      ]
    },
    {
      "cell_type": "code",
      "source": [
        "colnames=['route_name', 'capacity']\n",
        "df = pd.read_csv('capacity.csv', names=colnames, header=None)\n",
        "df.head(2)"
      ],
      "metadata": {
        "id": "VJ3KdPOUOSBZ"
      },
      "execution_count": null,
      "outputs": []
    },
    {
      "cell_type": "code",
      "source": [
        "segments_freq = segments_freq.merge(df, on='route_name')\n",
        "segments_freq.head(2)"
      ],
      "metadata": {
        "id": "ouG-1nlhRuvS"
      },
      "execution_count": null,
      "outputs": []
    },
    {
      "cell_type": "code",
      "execution_count": null,
      "metadata": {
        "id": "dupY6QR232s6"
      },
      "outputs": [],
      "source": [
        "def add_edges(G, gdf):\n",
        "    for idx, row in gdf.iterrows():\n",
        "        # Extract start and end coordinates\n",
        "        start_coords = (row['geometry'].coords[0][1], row['geometry'].coords[0][0])\n",
        "        end_coords = (row['geometry'].coords[-1][1], row['geometry'].coords[-1][0])\n",
        "\n",
        "        # Calculate the product of ntrips and capacity\n",
        "        ntrips_capacity = row['ntrips'] * row['capacity']\n",
        "\n",
        "        # Create a unique key for the edge\n",
        "        key = f\"{row['route_name']}_{ntrips_capacity}\"\n",
        "\n",
        "        # Add edge to the graph with specified keys and additional attributes\n",
        "        G.add_edge(start_coords, end_coords, key=key, route_name=row['route_name'], ntrips_capacity=ntrips_capacity)"
      ]
    },
    {
      "cell_type": "code",
      "execution_count": null,
      "metadata": {
        "id": "NQnHmUeO37s8"
      },
      "outputs": [],
      "source": [
        "G = nx.MultiDiGraph()\n",
        "# Add edges from segments_freq to the graph\n",
        "add_edges(G, segments_freq)\n",
        "\n",
        "# Display basic information about the graph\n",
        "#print(info(G))"
      ]
    },
    {
      "cell_type": "code",
      "execution_count": null,
      "metadata": {
        "id": "uxKV_siP4afb"
      },
      "outputs": [],
      "source": [
        "def create_folium_map(G):\n",
        "    # Create a folium map centered around Budapest\n",
        "    m = folium.Map(location=[47.4979, 19.0402], zoom_start=12)\n",
        "\n",
        "    # Add edges to the folium map with tooltips\n",
        "    for u, v, data in G.edges(data=True):\n",
        "        # Create the coordinates list for the PolyLine\n",
        "        coords = [u, v]\n",
        "\n",
        "        # Create the tooltip text\n",
        "        tooltip_text = f\"Route: {data['route_name']}<br>Capacity: {data['ntrips_capacity']}\"\n",
        "\n",
        "        # Add the PolyLine to the map with the tooltip\n",
        "        folium.PolyLine(coords, color='blue', weight=2.5, opacity=1, tooltip=tooltip_text).add_to(m)\n",
        "\n",
        "    # Add nodes to the folium map\n",
        "    for node in G.nodes():\n",
        "        folium.CircleMarker(location=node, radius=2, color='red').add_to(m)\n",
        "\n",
        "    return m"
      ]
    },
    {
      "cell_type": "code",
      "source": [
        "def create_folium_map(G):\n",
        "    # Create a folium map centered around Budapest\n",
        "    m = folium.Map(location=[47.4979, 19.0402], zoom_start=12)\n",
        "\n",
        "    # Generate a list of distinct colors\n",
        "    colors = list(mcolors.CSS4_COLORS.values())\n",
        "    max_colors = min(len(colors), 50)  # Limit to 30 distinct colors if there are fewer colors available\n",
        "    colors = colors[:max_colors]\n",
        "\n",
        "    # Create a dictionary to track the number of parallel edges\n",
        "    edge_count = {}\n",
        "\n",
        "    # Add edges to the folium map with tooltips\n",
        "    for u, v, key, data in G.edges(keys=True, data=True):\n",
        "        # Create the coordinates list for the PolyLine\n",
        "        coords = [u, v]\n",
        "\n",
        "        # Create a unique identifier for the edge pair (u, v)\n",
        "        edge_id = (u, v)\n",
        "        if edge_id not in edge_count:\n",
        "            edge_count[edge_id] = 0\n",
        "        edge_index = edge_count[edge_id]\n",
        "        edge_count[edge_id] += 1\n",
        "\n",
        "        # Assign a color based on the edge index\n",
        "        color = colors[edge_index % len(colors)]\n",
        "\n",
        "        # Create the tooltip text\n",
        "        tooltip_text = f\"Route: {data['route_name']}<br>Capacity: {data['ntrips_capacity']}\"\n",
        "\n",
        "        # Add the PolyLine to the map with the tooltip\n",
        "        folium.PolyLine(coords, color=color, weight=2.5, opacity=1, tooltip=tooltip_text).add_to(m)\n",
        "\n",
        "    # Add nodes to the folium map\n",
        "    for node in G.nodes():\n",
        "        folium.CircleMarker(location=node, radius=2, color='red').add_to(m)\n",
        "\n",
        "    return m"
      ],
      "metadata": {
        "id": "3XqplBQqIS1l"
      },
      "execution_count": null,
      "outputs": []
    },
    {
      "cell_type": "code",
      "execution_count": null,
      "metadata": {
        "id": "D0OX4iig4ah0"
      },
      "outputs": [],
      "source": [
        "s = create_folium_map(G)\n",
        "\n",
        "# Display the map\n",
        "#m.save(\"multidigraph_map.html\")\n",
        "s"
      ]
    },
    {
      "cell_type": "code",
      "execution_count": null,
      "metadata": {
        "colab": {
          "background_save": true
        },
        "id": "XaWEJJSm8iOD"
      },
      "outputs": [],
      "source": [
        "edges_gdf = gpd.GeoDataFrame(columns=['geometry', 'route_name', 'ntrips'])\n",
        "for u, v, data in G.edges(data=True):\n",
        "    data['geometry'] = LineString([u, v])\n",
        "    pd.concat([edges_gdf, gpd.GeoDataFrame([data])])\n",
        "\n",
        "# Initialize KeplerGl map\n",
        "m = kp.KeplerGl(height=400)\n",
        "\n",
        "# Add data to KeplerGl map\n",
        "m.add_data(data=edges_gdf, name='Segments')\n",
        "\n",
        "# Configure map layers and tooltips\n",
        "m.config = {\n",
        "#config = {\n",
        "    \"version\": \"v1\",\n",
        "    \"config\": {\n",
        "        \"mapState\": {\n",
        "            \"latitude\": 47.4979,\n",
        "            \"longitude\": 19.0402,\n",
        "            \"zoom\": 12\n",
        "        },\n",
        "        \"mapStyle\": {\n",
        "            \"styleType\": \"dark\"\n",
        "        },\n",
        "        \"visState\": {\n",
        "            \"layers\": [\n",
        "                {\n",
        "                    \"id\": \"Segments\",\n",
        "                    \"type\": \"line\",\n",
        "                    \"config\": {\n",
        "                        \"dataId\": \"Segments\",\n",
        "                        \"label\": \"Segments\",\n",
        "                        \"columns\": {\n",
        "                            \"geojson\": \"geometry\"\n",
        "                        },\n",
        "                        \"isVisible\": True,\n",
        "                        \"visConfig\": {\n",
        "                            \"opacity\": 0.8,\n",
        "                            \"thickness\": 1,\n",
        "                            \"colorRange\": {\n",
        "                                \"name\": \"Global Warming\",\n",
        "                                \"type\": \"sequential\",\n",
        "                                \"category\": \"Uber\",\n",
        "                                \"colors\": [\n",
        "                                    \"#5A1846\",\n",
        "                                    \"#900C3F\",\n",
        "                                    \"#C70039\",\n",
        "                                    \"#E3611C\",\n",
        "                                    \"#F1920E\",\n",
        "                                    \"#FFC300\"\n",
        "                                ]\n",
        "                            },\n",
        "                            \"strokeColor\": [170, 255, 0],\n",
        "                            \"strokeWidth\": 0.5\n",
        "                        },\n",
        "                        \"textLabel\": [\n",
        "                            {\n",
        "                                \"field\": {\n",
        "                                    \"name\": \"route_name\"\n",
        "                                },\n",
        "                                \"color\": [255, 255, 255],\n",
        "                                \"size\": 18,\n",
        "                                \"offset\": [0, 0],\n",
        "                                \"anchor\": \"start\",\n",
        "                                \"alignment\": \"center\"\n",
        "                            }\n",
        "                        ]\n",
        "                    }\n",
        "                }\n",
        "            ]\n",
        "        }\n",
        "    }\n",
        "}\n",
        "\n",
        "# Display the map (this would work in a Jupyter notebook or similar environment)\n",
        "m\n",
        "output.enable_custom_widget_manager()"
      ]
    },
    {
      "cell_type": "code",
      "execution_count": null,
      "metadata": {
        "id": "ZrwQwHS7OHGr"
      },
      "outputs": [],
      "source": [
        "def add_edges_with_weights(G, gdf):\n",
        "    for idx, row in gdf.iterrows():\n",
        "        # Extract start and end coordinates\n",
        "        start_coords = (row['geometry'].coords[0][1], row['geometry'].coords[0][0])\n",
        "        end_coords = (row['geometry'].coords[-1][1], row['geometry'].coords[-1][0])\n",
        "\n",
        "        ntrips_capacity = row['ntrips'] * row['capacity']\n",
        "\n",
        "        # Add edge to the graph with ntrips as weight\n",
        "        G.add_edge(start_coords, end_coords, weight=ntrips_capacity, attr_dict=row.to_dict())"
      ]
    },
    {
      "cell_type": "code",
      "source": [
        "def add_edges_with_weights2(G, gdf):\n",
        "    for idx, row in gdf.iterrows():\n",
        "        # Extract start and end coordinates\n",
        "        start_coords = (row['geometry'].coords[0][1], row['geometry'].coords[0][0])\n",
        "        end_coords = (row['geometry'].coords[-1][1], row['geometry'].coords[-1][0])\n",
        "\n",
        "        ntrips_capacity = row['ntrips'] * row['capacity']\n",
        "\n",
        "        if G.has_edge(start_coords, end_coords):\n",
        "            # If the edge exists, update the weight\n",
        "            G[start_coords][end_coords]['weight'] += ntrips_capacity\n",
        "            # Optionally, update the ntrips_capacity attribute to reflect the new total\n",
        "            G[start_coords][end_coords]['ntrips_capacity'] += ntrips_capacity\n",
        "        else:\n",
        "            # If the edge does not exist, add it with the new weight and attributes\n",
        "            G.add_edge(start_coords, end_coords, weight=ntrips_capacity, route_name=row['route_name'], ntrips_capacity=ntrips_capacity)"
      ],
      "metadata": {
        "id": "lTU8O8F-WSUT"
      },
      "execution_count": null,
      "outputs": []
    },
    {
      "cell_type": "code",
      "execution_count": null,
      "metadata": {
        "id": "gdDtxFCIOHKK"
      },
      "outputs": [],
      "source": [
        "G2 = nx.DiGraph()\n",
        "add_edges_with_weights2(G2, segments_freq)"
      ]
    },
    {
      "cell_type": "code",
      "source": [
        "def create_folium_map2(G):\n",
        "    # Create a folium map centered around Budapest\n",
        "    m = folium.Map(location=[47.4979, 19.0402], zoom_start=12)\n",
        "\n",
        "    # Add edges to the folium map with tooltips\n",
        "    for u, v, data in G.edges(data=True):\n",
        "        # Create the coordinates list for the PolyLine\n",
        "        coords = [u, v]\n",
        "\n",
        "        # Create the tooltip text\n",
        "        capacity = data.get('ntrips_capacity', 'N/A')\n",
        "        tooltip_text = f\"Capacity: {capacity}\"\n",
        "\n",
        "        # Add the PolyLine to the map with the tooltip\n",
        "        folium.PolyLine(coords, color='blue', weight=2.5, opacity=1, tooltip=tooltip_text).add_to(m)\n",
        "\n",
        "    # Add nodes to the folium map\n",
        "    for node in G.nodes():\n",
        "        folium.CircleMarker(location=node, radius=2, color='red').add_to(m)\n",
        "\n",
        "    return m"
      ],
      "metadata": {
        "id": "JE6nusLiVSHT"
      },
      "execution_count": null,
      "outputs": []
    },
    {
      "cell_type": "code",
      "execution_count": null,
      "metadata": {
        "id": "wR6ixbzjP3F8"
      },
      "outputs": [],
      "source": [
        "r = create_folium_map2(G2)\n",
        "r"
      ]
    },
    {
      "cell_type": "code",
      "execution_count": null,
      "metadata": {
        "id": "1I_wzMP6O_Er"
      },
      "outputs": [],
      "source": [
        "edges_data = []\n",
        "for u, v, data in G.edges(data=True):\n",
        "    edges_data.append({\n",
        "        'geometry': LineString([u, v]),\n",
        "        'route_name': data['route_name'],\n",
        "        'ntrips': data['ntrips']\n",
        "    })\n",
        "\n",
        "edges_gdf = gpd.GeoDataFrame(edges_data, columns=['geometry', 'route_name', 'ntrips'])\n",
        "\n",
        "# Initialize KeplerGl map\n",
        "m = kp.KeplerGl(height=600)\n",
        "\n",
        "# Add data to KeplerGl map\n",
        "m.add_data(data=edges_gdf, name='Segments', replace=True)\n",
        "\n",
        "# Configure map layers and tooltips\n",
        "m.config = {\n",
        "    \"version\": \"v1\",\n",
        "    \"config\": {\n",
        "        \"mapState\": {\n",
        "            \"latitude\": 47.4979,\n",
        "            \"longitude\": 19.0402,\n",
        "            \"zoom\": 12\n",
        "        },\n",
        "        \"mapStyle\": {\n",
        "            \"styleType\": \"dark\"\n",
        "        },\n",
        "        \"visState\": {\n",
        "            \"layers\": [\n",
        "                {\n",
        "                    \"id\": \"Segments\",\n",
        "                    \"type\": \"line\",\n",
        "                    \"config\": {\n",
        "                        \"dataId\": \"Segments\",\n",
        "                        \"label\": \"Segments\",\n",
        "                        \"columns\": {\n",
        "                            \"geojson\": \"geometry\"\n",
        "                        },\n",
        "                        \"isVisible\": True,\n",
        "                        \"visConfig\": {\n",
        "                            \"opacity\": 0.8,\n",
        "                            \"thickness\": 1,\n",
        "                            \"colorRange\": {\n",
        "                                \"name\": \"Global Warming\",\n",
        "                                \"type\": \"sequential\",\n",
        "                                \"category\": \"Uber\",\n",
        "                                \"colors\": [\n",
        "                                    \"#5A1846\",\n",
        "                                    \"#900C3F\",\n",
        "                                    \"#C70039\",\n",
        "                                    \"#E3611C\",\n",
        "                                    \"#F1920E\",\n",
        "                                    \"#FFC300\"\n",
        "                                ]\n",
        "                            },\n",
        "                            \"strokeColor\": [170, 255, 0],\n",
        "                            \"strokeWidth\": 0.5\n",
        "                        },\n",
        "                        \"textLabel\": [\n",
        "                            {\n",
        "                                \"field\": {\n",
        "                                    \"name\": \"route_name\"\n",
        "                                },\n",
        "                                \"color\": [255, 255, 255],\n",
        "                                \"size\": 18,\n",
        "                                \"offset\": [0, 0],\n",
        "                                \"anchor\": \"start\",\n",
        "                                \"alignment\": \"center\"\n",
        "                            }\n",
        "                        ]\n",
        "                    }\n",
        "                }\n",
        "            ]\n",
        "        }\n",
        "    }\n",
        "}\n",
        "\n",
        "# Display the map (this would work in a Jupyter notebook or similar environment)\n",
        "m"
      ]
    },
    {
      "cell_type": "code",
      "execution_count": null,
      "metadata": {
        "id": "UA0XZVHhRyOz"
      },
      "outputs": [],
      "source": [
        "def add_edges2(G, gdf): #egyelőre nem kell\n",
        "    for idx, row in gdf.iterrows():\n",
        "        # Extract start and end coordinates\n",
        "        start_coords = (row['geometry'].coords[0][1], row['geometry'].coords[0][0])\n",
        "        end_coords = (row['geometry'].coords[-1][1], row['geometry'].coords[-1][0])\n",
        "\n",
        "        # Create a unique key for the edge\n",
        "        key = f\"{row['route_name']}_{row['ntrips']}\"\n",
        "\n",
        "        # Add nodes with stop names\n",
        "        G.add_node(start_coords, stop_name=row['start_stop_name'])\n",
        "        G.add_node(end_coords, stop_name=row['end_stop_name'])\n",
        "\n",
        "        # Add edge to the graph with specified keys\n",
        "        G.add_edge(start_coords, end_coords, key=key, route_name=row['route_name'], ntrips=row['ntrips'])"
      ]
    },
    {
      "cell_type": "code",
      "execution_count": null,
      "metadata": {
        "id": "BM1XYQaBRyRK"
      },
      "outputs": [],
      "source": [
        "G3 = nx.MultiDiGraph()\n",
        "add_edges2(G3, segments_freq)"
      ]
    },
    {
      "cell_type": "code",
      "execution_count": null,
      "metadata": {
        "id": "fAUgE7KvRyTK"
      },
      "outputs": [],
      "source": [
        "def add_edgesline(m, gdf):\n",
        "    for idx, row in gdf.iterrows():\n",
        "        if isinstance(row['geometry'], LineString):\n",
        "            coords = [(pt[1], pt[0]) for pt in row['geometry'].coords]\n",
        "            tooltip_text = f\"Route: {row['route_name']}<br>Trips: {row['ntrips']}<br>From: {row['start_stop_name']}<br>To: {row['end_stop_name']}\"\n",
        "            folium.PolyLine(coords, color='blue', weight=2.5, opacity=0.8, tooltip=tooltip_text).add_to(m)"
      ]
    },
    {
      "cell_type": "code",
      "execution_count": null,
      "metadata": {
        "id": "btqFv88fSOMz"
      },
      "outputs": [],
      "source": [
        "m = folium.Map(location=[47.4979, 19.0402], zoom_start=12)\n",
        "add_edgesline(m, segments_freq)\n",
        "\n",
        "# Save the map to an HTML file\n",
        "#m.save('budapest_transit_map.html')\n",
        "\n",
        "# Display the map\n",
        "m"
      ]
    },
    {
      "cell_type": "code",
      "execution_count": null,
      "metadata": {
        "colab": {
          "background_save": true
        },
        "id": "lGuCyvmTTo0S"
      },
      "outputs": [],
      "source": [
        "lines = []\n",
        "for idx, row in segments_freq.iterrows():\n",
        "    if isinstance(row['geometry'], LineString):\n",
        "        coords = list(row['geometry'].coords)\n",
        "        lat, lon = zip(*coords)\n",
        "        lines.append(go.Scattermapbox(\n",
        "            lat=lat,\n",
        "            lon=lon,\n",
        "            mode='lines',\n",
        "            line=dict(width=2, color='blue'),\n",
        "            text=f\"Route: {row['route_name']}<br>Trips: {row['ntrips']}<br>From: {row['start_stop_name']}<br>To: {row['end_stop_name']}\",\n",
        "            hoverinfo='text'\n",
        "        ))\n",
        "\n",
        "# Create a Plotly figure\n",
        "fig = go.Figure()\n",
        "\n",
        "fig.add_traces(lines)\n",
        "\n",
        "fig.update_layout(\n",
        "    mapbox_style=\"open-street-map\",\n",
        "    mapbox_zoom=12,\n",
        "    mapbox_center={\"lat\": 47.4979, \"lon\": 19.0402},\n",
        "    height=600\n",
        ")\n",
        "\n",
        "fig.show()"
      ]
    },
    {
      "cell_type": "code",
      "execution_count": null,
      "metadata": {
        "colab": {
          "background_save": true
        },
        "id": "-0ScUbmcTpBh"
      },
      "outputs": [],
      "source": [
        "fig, ax = plt.subplots(figsize=(15, 10))\n",
        "m = Basemap(projection='merc', llcrnrlat=47.0, urcrnrlat=48.0, llcrnrlon=18.5, urcrnrlon=19.5, resolution='i', ax=ax)\n",
        "m.drawcoastlines()\n",
        "m.drawcountries()\n",
        "m.drawmapboundary(fill_color='aqua')\n",
        "m.fillcontinents(color='lightgreen', lake_color='aqua')\n",
        "m.drawparallels(range(47, 49), labels=[1,0,0,0])\n",
        "m.drawmeridians(range(18, 20), labels=[0,0,0,1])\n",
        "\n",
        "# Add segments to the map\n",
        "for idx, row in segments_freq.iterrows():\n",
        "    if isinstance(row['geometry'], LineString):\n",
        "        coords = list(row['geometry'].coords)\n",
        "        lons, lats = zip(*coords)\n",
        "        x, y = m(lons, lats)\n",
        "        m.plot(x, y, marker=None, color='b', linewidth=2, label=f\"{row['route_name']} ({row['ntrips']} trips)\")\n",
        "\n",
        "# Add a legend\n",
        "plt.legend(loc='lower left', fontsize='small')\n",
        "\n",
        "plt.title('Budapest Public Transport Segments')\n",
        "plt.show()"
      ]
    }
  ],
  "metadata": {
    "accelerator": "GPU",
    "colab": {
      "gpuType": "T4",
      "provenance": []
    },
    "kernelspec": {
      "display_name": "Python 3",
      "name": "python3"
    },
    "language_info": {
      "name": "python"
    }
  },
  "nbformat": 4,
  "nbformat_minor": 0
}