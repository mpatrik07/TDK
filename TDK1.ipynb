{
  "cells": [
    {
      "cell_type": "markdown",
      "source": [
        "###Beolvasás"
      ],
      "metadata": {
        "id": "p0ljdOSdzwTC"
      }
    },
    {
      "cell_type": "code",
      "execution_count": null,
      "metadata": {
        "collapsed": true,
        "id": "wbZI8kPkqcoi"
      },
      "outputs": [],
      "source": [
        "#!pip install gtfs_functions\n",
        "#!pip install KeplerGl\n",
        "#!pip install keplergl jupyter\n",
        "#!jupyter nbextension install --py --symlink --sys-prefix keplergl\n",
        "#!jupyter nbextension enable --py --sys-prefix keplergl\n",
        "#!jupyter nbextension enable --py --sys-prefix widgetsnbextension\n",
        "#!pip install gtfs_functions matplotlib basemap\n",
        "#!pip install geopy\n",
        "#!pip install pyshp\n",
        "import matplotlib.pyplot as plt\n",
        "#from mpl_toolkits.basemap import Basemap\n",
        "import gtfs_functions as gtfs\n",
        "from gtfs_functions import Feed\n",
        "import networkx as nx\n",
        "import geopandas as gpd\n",
        "import folium\n",
        "from shapely.geometry import Point, LineString, Polygon, shape\n",
        "from folium.plugins import MarkerCluster\n",
        "#import keplergl as kp\n",
        "from google.colab import output\n",
        "from IPython.display import display\n",
        "import pandas as pd\n",
        "from gtfs_functions.gtfs_plots import map_gdf\n",
        "import plotly.graph_objs as go\n",
        "import matplotlib.colors as mcolors\n",
        "import matplotlib.cm as cm\n",
        "from geopy.distance import geodesic\n",
        "from math import radians, sin, cos, sqrt, atan2\n",
        "from itertools import combinations\n",
        "import numpy as np\n",
        "import shapefile as shp\n",
        "import seaborn as sns\n",
        "import os\n",
        "import copy\n",
        "import fiona\n",
        "import csv\n",
        "import math\n",
        "import colorsys\n",
        "from difflib import SequenceMatcher\n",
        "from folium.plugins import HeatMap\n",
        "import branca.colormap as cmb\n",
        "import re\n",
        "from collections import defaultdict"
      ]
    },
    {
      "cell_type": "code",
      "execution_count": null,
      "metadata": {
        "id": "IjGocdufqjnb"
      },
      "outputs": [],
      "source": [
        "feed = Feed(\"budapest_gtfs.zip\", time_windows=[6, 7]) #itt változtathatunk az időintervallumon\n",
        "#feed = Feed(\"budapest_gtfs.zip\")\n",
        "routes = feed.routes\n",
        "trips = feed.trips\n",
        "stops = feed.stops\n",
        "stop_times = feed.stop_times\n",
        "shapes = feed.shapes"
      ]
    },
    {
      "cell_type": "code",
      "execution_count": null,
      "metadata": {
        "id": "qwsioW_axDe8"
      },
      "outputs": [],
      "source": [
        "segments_gdf = feed.segments\n",
        "segments_gdf.head(2)\n",
        "#segments_gdf.info()"
      ]
    },
    {
      "cell_type": "code",
      "execution_count": null,
      "metadata": {
        "id": "gVbjxFKgxD8M"
      },
      "outputs": [],
      "source": [
        "segments_freq = feed.segments_freq\n",
        "segments_freq.head(2)\n",
        "#print(type(segments_freq))"
      ]
    },
    {
      "cell_type": "code",
      "source": [
        "colnames=['route_name', 'capacity']\n",
        "df = pd.read_csv('capacity.csv', names=colnames, header=None)\n",
        "df.head(2)"
      ],
      "metadata": {
        "id": "VJ3KdPOUOSBZ"
      },
      "execution_count": null,
      "outputs": []
    },
    {
      "cell_type": "code",
      "source": [
        "segments_freq = segments_freq.merge(df, on='route_name')\n",
        "segments_freq.head(2)"
      ],
      "metadata": {
        "id": "ouG-1nlhRuvS"
      },
      "execution_count": null,
      "outputs": []
    },
    {
      "cell_type": "code",
      "source": [
        "seq_copy = copy.deepcopy(segments_freq)\n",
        "seq_copy['weight'] = seq_copy['ntrips'] * seq_copy['capacity']\n",
        "\n",
        "# Step 2: Normalize the weights for visualization\n",
        "seq_copy['normalized_weight'] = seq_copy['weight'] / seq_copy['weight'].max()\n",
        "\n",
        "# Step 3: Create a folium map centered on the mean coordinates of the data\n",
        "mean_x, mean_y = seq_copy.geometry.centroid.x.mean(), seq_copy.geometry.centroid.y.mean()\n",
        "m = folium.Map(location=[mean_y, mean_x], zoom_start=12)\n",
        "\n",
        "# Step 4: Add the lines to the map\n",
        "colormap = cmb.LinearColormap(colors=['blue', 'green', 'yellow', 'red'], vmin=0, vmax=1)\n",
        "for _, row in seq_copy.iterrows():\n",
        "    weight = row['normalized_weight']\n",
        "    # Extracting coordinates directly\n",
        "    locations = [(coord[1], coord[0]) for coord in row['geometry'].coords]\n",
        "    folium.PolyLine(\n",
        "        locations=locations,\n",
        "        weight=weight * 10 + 0.1,  # Adjust thickness\n",
        "        color=colormap(weight),  # Color based on weight\n",
        "        opacity=0.7\n",
        "    ).add_to(m)\n",
        "\n",
        "# Step 5: Add colormap to the map\n",
        "colormap.caption = 'Heatmap Intensity'\n",
        "m.add_child(colormap)\n",
        "m"
      ],
      "metadata": {
        "id": "SIpEzwzqHniT"
      },
      "execution_count": null,
      "outputs": []
    },
    {
      "cell_type": "markdown",
      "source": [
        "###Multigráf"
      ],
      "metadata": {
        "id": "StqEOSykz5A5"
      }
    },
    {
      "cell_type": "code",
      "execution_count": null,
      "metadata": {
        "id": "dupY6QR232s6"
      },
      "outputs": [],
      "source": [
        "def add_edges(G, gdf):\n",
        "    for idx, row in gdf.iterrows():\n",
        "        # Extract start and end coordinates\n",
        "        start_coords = (row['geometry'].coords[0][1], row['geometry'].coords[0][0])\n",
        "        end_coords = (row['geometry'].coords[-1][1], row['geometry'].coords[-1][0])\n",
        "\n",
        "        # Calculate the product of ntrips and capacity\n",
        "        ntrips_capacity = row['ntrips'] * row['capacity']\n",
        "\n",
        "        # Create a unique key for the edge\n",
        "        key = f\"{row['route_name']}_{ntrips_capacity}\"\n",
        "\n",
        "        # Add edge to the graph with specified keys and additional attributes\n",
        "        if row['direction_id'] == 0:\n",
        "          G.add_edge(start_coords, end_coords, key=key, route_name=row['route_name'], ntrips_capacity=ntrips_capacity)\n",
        "        elif row['direction_id'] == 1:\n",
        "          G.add_edge(end_coords, start_coords, key=key, route_name=row['route_name'], ntrips_capacity=ntrips_capacity)"
      ]
    },
    {
      "cell_type": "code",
      "execution_count": null,
      "metadata": {
        "id": "NQnHmUeO37s8"
      },
      "outputs": [],
      "source": [
        "G = nx.MultiDiGraph()\n",
        "# Add edges from segments_freq to the graph\n",
        "add_edges(G, segments_freq)\n",
        "\n",
        "# Display basic information about the graph\n",
        "#print(info(G))"
      ]
    },
    {
      "cell_type": "code",
      "execution_count": null,
      "metadata": {
        "id": "uxKV_siP4afb"
      },
      "outputs": [],
      "source": [
        "def create_folium_map(G):\n",
        "    # Create a folium map centered around Budapest\n",
        "    m = folium.Map(location=[47.4979, 19.0402], zoom_start=12)\n",
        "\n",
        "    # Add edges to the folium map with tooltips\n",
        "    for u, v, data in G.edges(data=True):\n",
        "        # Create the coordinates list for the PolyLine\n",
        "        coords = [u, v]\n",
        "\n",
        "        # Create the tooltip text\n",
        "        tooltip_text = f\"Route: {data['route_name']}<br>Capacity: {data['ntrips_capacity']}\"\n",
        "\n",
        "        # Add the PolyLine to the map with the tooltip\n",
        "        folium.PolyLine(coords, color='blue', weight=2.5, opacity=1, tooltip=tooltip_text).add_to(m)\n",
        "\n",
        "    # Add nodes to the folium map\n",
        "    for node in G.nodes():\n",
        "        folium.CircleMarker(location=node, radius=2, color='red').add_to(m)\n",
        "\n",
        "    return m"
      ]
    },
    {
      "cell_type": "code",
      "source": [
        "def create_folium_map_multicolor(G):\n",
        "    # Create a folium map centered around Budapest\n",
        "    m = folium.Map(location=[47.4979, 19.0402], zoom_start=12)\n",
        "\n",
        "    # Generate a list of distinct colors\n",
        "    colors = list(mcolors.CSS4_COLORS.values())\n",
        "    max_colors = min(len(colors), 50)  # Limit to 30 distinct colors if there are fewer colors available\n",
        "    colors = colors[:max_colors]\n",
        "\n",
        "    # Create a dictionary to track the number of parallel edges\n",
        "    edge_count = {}\n",
        "\n",
        "    # Add edges to the folium map with tooltips\n",
        "    for u, v, key, data in G.edges(keys=True, data=True):\n",
        "        # Create the coordinates list for the PolyLine\n",
        "        coords = [u, v]\n",
        "\n",
        "        # Create a unique identifier for the edge pair (u, v)\n",
        "        edge_id = (u, v)\n",
        "        if edge_id not in edge_count:\n",
        "            edge_count[edge_id] = 0\n",
        "        edge_index = edge_count[edge_id]\n",
        "        edge_count[edge_id] += 1\n",
        "\n",
        "        # Assign a color based on the edge index\n",
        "        color = colors[edge_index % len(colors)]\n",
        "\n",
        "        # Create the tooltip text\n",
        "        tooltip_text = f\"Route: {data['route_name']}<br>Capacity: {data['ntrips_capacity']}\"\n",
        "\n",
        "        # Add the PolyLine to the map with the tooltip\n",
        "        folium.PolyLine(coords, color=color, weight=2.5, opacity=1, tooltip=tooltip_text).add_to(m)\n",
        "\n",
        "    # Add nodes to the folium map\n",
        "    for node in G.nodes():\n",
        "        folium.CircleMarker(location=node, radius=2, color='red').add_to(m)\n",
        "\n",
        "    return m"
      ],
      "metadata": {
        "id": "3XqplBQqIS1l"
      },
      "execution_count": null,
      "outputs": []
    },
    {
      "cell_type": "code",
      "execution_count": null,
      "metadata": {
        "id": "D0OX4iig4ah0"
      },
      "outputs": [],
      "source": [
        "s = create_folium_map(G)#_multicolor(G)\n",
        "\n",
        "# Display the map\n",
        "#m.save(\"multidigraph_map.html\")\n",
        "s"
      ]
    },
    {
      "cell_type": "code",
      "execution_count": null,
      "metadata": {
        "colab": {
          "background_save": true
        },
        "id": "XaWEJJSm8iOD"
      },
      "outputs": [],
      "source": [
        "edges_gdf = gpd.GeoDataFrame(columns=['geometry', 'route_name', 'ntrips'])\n",
        "for u, v, data in G.edges(data=True):\n",
        "    data['geometry'] = LineString([u, v])\n",
        "    pd.concat([edges_gdf, gpd.GeoDataFrame([data])])\n",
        "\n",
        "# Initialize KeplerGl map\n",
        "m = kp.KeplerGl(height=400)\n",
        "\n",
        "# Add data to KeplerGl map\n",
        "m.add_data(data=edges_gdf, name='Segments')\n",
        "\n",
        "# Configure map layers and tooltips\n",
        "m.config = {\n",
        "#config = {\n",
        "    \"version\": \"v1\",\n",
        "    \"config\": {\n",
        "        \"mapState\": {\n",
        "            \"latitude\": 47.4979,\n",
        "            \"longitude\": 19.0402,\n",
        "            \"zoom\": 12\n",
        "        },\n",
        "        \"mapStyle\": {\n",
        "            \"styleType\": \"dark\"\n",
        "        },\n",
        "        \"visState\": {\n",
        "            \"layers\": [\n",
        "                {\n",
        "                    \"id\": \"Segments\",\n",
        "                    \"type\": \"line\",\n",
        "                    \"config\": {\n",
        "                        \"dataId\": \"Segments\",\n",
        "                        \"label\": \"Segments\",\n",
        "                        \"columns\": {\n",
        "                            \"geojson\": \"geometry\"\n",
        "                        },\n",
        "                        \"isVisible\": True,\n",
        "                        \"visConfig\": {\n",
        "                            \"opacity\": 0.8,\n",
        "                            \"thickness\": 1,\n",
        "                            \"colorRange\": {\n",
        "                                \"name\": \"Global Warming\",\n",
        "                                \"type\": \"sequential\",\n",
        "                                \"category\": \"Uber\",\n",
        "                                \"colors\": [\n",
        "                                    \"#5A1846\",\n",
        "                                    \"#900C3F\",\n",
        "                                    \"#C70039\",\n",
        "                                    \"#E3611C\",\n",
        "                                    \"#F1920E\",\n",
        "                                    \"#FFC300\"\n",
        "                                ]\n",
        "                            },\n",
        "                            \"strokeColor\": [170, 255, 0],\n",
        "                            \"strokeWidth\": 0.5\n",
        "                        },\n",
        "                        \"textLabel\": [\n",
        "                            {\n",
        "                                \"field\": {\n",
        "                                    \"name\": \"route_name\"\n",
        "                                },\n",
        "                                \"color\": [255, 255, 255],\n",
        "                                \"size\": 18,\n",
        "                                \"offset\": [0, 0],\n",
        "                                \"anchor\": \"start\",\n",
        "                                \"alignment\": \"center\"\n",
        "                            }\n",
        "                        ]\n",
        "                    }\n",
        "                }\n",
        "            ]\n",
        "        }\n",
        "    }\n",
        "}\n",
        "\n",
        "# Display the map (this would work in a Jupyter notebook or similar environment)\n",
        "m\n",
        "output.enable_custom_widget_manager()"
      ]
    },
    {
      "cell_type": "markdown",
      "source": [
        "###Sima gráf"
      ],
      "metadata": {
        "id": "1iQDJRoOz_7Z"
      }
    },
    {
      "cell_type": "code",
      "execution_count": null,
      "metadata": {
        "id": "ZrwQwHS7OHGr"
      },
      "outputs": [],
      "source": [
        "def add_edges_with_weights(G, gdf):\n",
        "    for idx, row in gdf.iterrows():\n",
        "        # Extract start and end coordinates\n",
        "        start_coords = (row['geometry'].coords[0][1], row['geometry'].coords[0][0])\n",
        "        end_coords = (row['geometry'].coords[-1][1], row['geometry'].coords[-1][0])\n",
        "\n",
        "        ntrips_capacity = row['ntrips'] * row['capacity']\n",
        "\n",
        "        # Add edge to the graph with ntrips as weight\n",
        "        if row['direction_id'] == 0:\n",
        "          G.add_edge(start_coords, end_coords, weight=ntrips_capacity, attr_dict=row.to_dict())\n",
        "        elif row['direction_id'] == 1:\n",
        "          G.add_edge(end_coords, start_coords, weight=ntrips_capacity, attr_dict=row.to_dict())"
      ]
    },
    {
      "cell_type": "code",
      "source": [
        "def add_edges_with_weights2(G, gdf):\n",
        "    for idx, row in gdf.iterrows():\n",
        "        # Extract start and end coordinates\n",
        "        start_coords = (row['geometry'].coords[0][1], row['geometry'].coords[0][0])\n",
        "        end_coords = (row['geometry'].coords[-1][1], row['geometry'].coords[-1][0])\n",
        "\n",
        "        ntrips_capacity = row['ntrips'] * row['capacity']\n",
        "\n",
        "        if row['direction_id'] == 0:\n",
        "            if G.has_edge(start_coords, end_coords):\n",
        "                # If the edge exists, update the weight\n",
        "                G[start_coords][end_coords]['weight'] += ntrips_capacity\n",
        "                G[start_coords][end_coords]['ntrips_capacity'] += ntrips_capacity\n",
        "            else:\n",
        "                # If the edge does not exist, add it with the new weight and attributes\n",
        "                G.add_edge(start_coords, end_coords, weight=ntrips_capacity, route_name=row['route_name'], ntrips_capacity=ntrips_capacity)\n",
        "        elif row['direction_id'] == 1:\n",
        "            if G.has_edge(end_coords, start_coords):\n",
        "                # If the edge exists, update the weight\n",
        "                G[end_coords][start_coords]['weight'] += ntrips_capacity\n",
        "                G[end_coords][start_coords]['ntrips_capacity'] += ntrips_capacity\n",
        "            else:\n",
        "                # If the edge does not exist, add it with the new weight and attributes\n",
        "                G.add_edge(end_coords, start_coords, weight=ntrips_capacity, route_name=row['route_name'], ntrips_capacity=ntrips_capacity)"
      ],
      "metadata": {
        "id": "lTU8O8F-WSUT"
      },
      "execution_count": null,
      "outputs": []
    },
    {
      "cell_type": "code",
      "execution_count": null,
      "metadata": {
        "id": "gdDtxFCIOHKK"
      },
      "outputs": [],
      "source": [
        "G2 = nx.DiGraph()\n",
        "add_edges_with_weights2(G2, segments_freq)"
      ]
    },
    {
      "cell_type": "code",
      "source": [
        "def create_folium_map2(G):\n",
        "    # Create a folium map centered around Budapest\n",
        "    m = folium.Map(location=[47.4979, 19.0402], zoom_start=12)\n",
        "\n",
        "    # Add edges to the folium map with tooltips\n",
        "    for u, v, data in G.edges(data=True):\n",
        "        # Create the coordinates list for the PolyLine\n",
        "        coords = [u, v]\n",
        "\n",
        "        # Create the tooltip text\n",
        "        capacity = data.get('ntrips_capacity', 'N/A')\n",
        "        tooltip_text = f\"Capacity: {capacity}\"\n",
        "\n",
        "        # Add the PolyLine to the map with the tooltip\n",
        "        folium.PolyLine(coords, color='blue', weight=2.5, opacity=1, tooltip=tooltip_text).add_to(m)\n",
        "\n",
        "    # Add nodes to the folium map\n",
        "    for node in G.nodes():\n",
        "        folium.CircleMarker(location=node, radius=2, color='red').add_to(m)\n",
        "\n",
        "    return m"
      ],
      "metadata": {
        "id": "JE6nusLiVSHT"
      },
      "execution_count": null,
      "outputs": []
    },
    {
      "cell_type": "code",
      "source": [
        "def create_folium_heatmap(G):\n",
        "    # Create a folium map centered around Budapest\n",
        "    m = folium.Map(location=[47.4979, 19.0402], zoom_start=12)\n",
        "\n",
        "    # Normalize the edge weights for color scaling\n",
        "    edge_weights = [data.get('ntrips_capacity', 1) for u, v, data in G.edges(data=True)]\n",
        "    min_weight = min(edge_weights)\n",
        "    max_weight = max(edge_weights)\n",
        "\n",
        "    def get_color(weight):\n",
        "        # Normalize the weight to the range [0, 1]\n",
        "        norm_weight = (weight - min_weight) / (max_weight - min_weight) if max_weight != min_weight else 0.5\n",
        "        # Get a color from the 'rainbow' colormap\n",
        "        color = cm.rainbow(norm_weight)\n",
        "        # Convert color to hex\n",
        "        return mcolors.to_hex(color)\n",
        "\n",
        "    # Add edges to the folium map with tooltips\n",
        "    for u, v, data in G.edges(data=True):\n",
        "        # Create the coordinates list for the PolyLine\n",
        "        coords = [u, v]\n",
        "\n",
        "        # Get the weight and color for the edge\n",
        "        capacity = data.get('ntrips_capacity', 1)\n",
        "        color = get_color(capacity)\n",
        "\n",
        "        # Create the tooltip text\n",
        "        tooltip_text = f\"Capacity: {capacity}\"\n",
        "\n",
        "        # Add the PolyLine to the map with the tooltip\n",
        "        folium.PolyLine(coords, color=color, weight=2.5, opacity=1, tooltip=tooltip_text).add_to(m)\n",
        "\n",
        "    # Add nodes to the folium map\n",
        "    for node in G.nodes():\n",
        "        folium.CircleMarker(location=node, radius=2, color='gray').add_to(m)\n",
        "\n",
        "    return m"
      ],
      "metadata": {
        "id": "fgg46SJ_t7fT"
      },
      "execution_count": null,
      "outputs": []
    },
    {
      "cell_type": "code",
      "execution_count": null,
      "metadata": {
        "id": "wR6ixbzjP3F8"
      },
      "outputs": [],
      "source": [
        "r = create_folium_heatmap(G2)\n",
        "r"
      ]
    },
    {
      "cell_type": "code",
      "source": [
        "r = create_folium_map2(G2)\n",
        "r"
      ],
      "metadata": {
        "id": "aa28Pr3AD9Xs"
      },
      "execution_count": null,
      "outputs": []
    },
    {
      "cell_type": "code",
      "execution_count": null,
      "metadata": {
        "id": "1I_wzMP6O_Er"
      },
      "outputs": [],
      "source": [
        "edges_data = []\n",
        "for u, v, data in G.edges(data=True):\n",
        "    edges_data.append({\n",
        "        'geometry': LineString([u, v]),\n",
        "        'route_name': data['route_name'],\n",
        "        'ntrips': data['ntrips']\n",
        "    })\n",
        "\n",
        "edges_gdf = gpd.GeoDataFrame(edges_data, columns=['geometry', 'route_name', 'ntrips'])\n",
        "\n",
        "# Initialize KeplerGl map\n",
        "m = kp.KeplerGl(height=600)\n",
        "\n",
        "# Add data to KeplerGl map\n",
        "m.add_data(data=edges_gdf, name='Segments', replace=True)\n",
        "\n",
        "# Configure map layers and tooltips\n",
        "m.config = {\n",
        "    \"version\": \"v1\",\n",
        "    \"config\": {\n",
        "        \"mapState\": {\n",
        "            \"latitude\": 47.4979,\n",
        "            \"longitude\": 19.0402,\n",
        "            \"zoom\": 12\n",
        "        },\n",
        "        \"mapStyle\": {\n",
        "            \"styleType\": \"dark\"\n",
        "        },\n",
        "        \"visState\": {\n",
        "            \"layers\": [\n",
        "                {\n",
        "                    \"id\": \"Segments\",\n",
        "                    \"type\": \"line\",\n",
        "                    \"config\": {\n",
        "                        \"dataId\": \"Segments\",\n",
        "                        \"label\": \"Segments\",\n",
        "                        \"columns\": {\n",
        "                            \"geojson\": \"geometry\"\n",
        "                        },\n",
        "                        \"isVisible\": True,\n",
        "                        \"visConfig\": {\n",
        "                            \"opacity\": 0.8,\n",
        "                            \"thickness\": 1,\n",
        "                            \"colorRange\": {\n",
        "                                \"name\": \"Global Warming\",\n",
        "                                \"type\": \"sequential\",\n",
        "                                \"category\": \"Uber\",\n",
        "                                \"colors\": [\n",
        "                                    \"#5A1846\",\n",
        "                                    \"#900C3F\",\n",
        "                                    \"#C70039\",\n",
        "                                    \"#E3611C\",\n",
        "                                    \"#F1920E\",\n",
        "                                    \"#FFC300\"\n",
        "                                ]\n",
        "                            },\n",
        "                            \"strokeColor\": [170, 255, 0],\n",
        "                            \"strokeWidth\": 0.5\n",
        "                        },\n",
        "                        \"textLabel\": [\n",
        "                            {\n",
        "                                \"field\": {\n",
        "                                    \"name\": \"route_name\"\n",
        "                                },\n",
        "                                \"color\": [255, 255, 255],\n",
        "                                \"size\": 18,\n",
        "                                \"offset\": [0, 0],\n",
        "                                \"anchor\": \"start\",\n",
        "                                \"alignment\": \"center\"\n",
        "                            }\n",
        "                        ]\n",
        "                    }\n",
        "                }\n",
        "            ]\n",
        "        }\n",
        "    }\n",
        "}\n",
        "\n",
        "# Display the map (this would work in a Jupyter notebook or similar environment)\n",
        "m"
      ]
    },
    {
      "cell_type": "code",
      "execution_count": null,
      "metadata": {
        "id": "UA0XZVHhRyOz"
      },
      "outputs": [],
      "source": [
        "def add_edges2(G, gdf): #egyelőre nem kell\n",
        "    for idx, row in gdf.iterrows():\n",
        "        # Extract start and end coordinates\n",
        "        start_coords = (row['geometry'].coords[0][1], row['geometry'].coords[0][0])\n",
        "        end_coords = (row['geometry'].coords[-1][1], row['geometry'].coords[-1][0])\n",
        "\n",
        "        # Create a unique key for the edge\n",
        "        key = f\"{row['route_name']}_{row['ntrips']}\"\n",
        "\n",
        "        # Add nodes with stop names\n",
        "        G.add_node(start_coords, stop_name=row['start_stop_name'])\n",
        "        G.add_node(end_coords, stop_name=row['end_stop_name'])\n",
        "\n",
        "        # Add edge to the graph with specified keys\n",
        "        G.add_edge(start_coords, end_coords, key=key, route_name=row['route_name'], ntrips=row['ntrips'])"
      ]
    },
    {
      "cell_type": "code",
      "execution_count": null,
      "metadata": {
        "id": "BM1XYQaBRyRK"
      },
      "outputs": [],
      "source": [
        "G3 = nx.MultiDiGraph()\n",
        "add_edges2(G3, segments_freq)"
      ]
    },
    {
      "cell_type": "code",
      "execution_count": null,
      "metadata": {
        "id": "fAUgE7KvRyTK"
      },
      "outputs": [],
      "source": [
        "def add_edgesline(m, gdf):\n",
        "    for idx, row in gdf.iterrows():\n",
        "        if isinstance(row['geometry'], LineString):\n",
        "            coords = [(pt[1], pt[0]) for pt in row['geometry'].coords]\n",
        "            tooltip_text = f\"Route: {row['route_name']}<br>Trips: {row['ntrips']}<br>From: {row['start_stop_name']}<br>To: {row['end_stop_name']}\"\n",
        "            folium.PolyLine(coords, color='blue', weight=2.5, opacity=0.8, tooltip=tooltip_text).add_to(m)"
      ]
    },
    {
      "cell_type": "code",
      "execution_count": null,
      "metadata": {
        "id": "btqFv88fSOMz"
      },
      "outputs": [],
      "source": [
        "m = folium.Map(location=[47.4979, 19.0402], zoom_start=12)\n",
        "add_edgesline(m, segments_freq)\n",
        "\n",
        "# Save the map to an HTML file\n",
        "#m.save('budapest_transit_map.html')\n",
        "\n",
        "# Display the map\n",
        "m"
      ]
    },
    {
      "cell_type": "code",
      "execution_count": null,
      "metadata": {
        "colab": {
          "background_save": true
        },
        "id": "lGuCyvmTTo0S"
      },
      "outputs": [],
      "source": [
        "lines = []\n",
        "for idx, row in segments_freq.iterrows():\n",
        "    if isinstance(row['geometry'], LineString):\n",
        "        coords = list(row['geometry'].coords)\n",
        "        lat, lon = zip(*coords)\n",
        "        lines.append(go.Scattermapbox(\n",
        "            lat=lat,\n",
        "            lon=lon,\n",
        "            mode='lines',\n",
        "            line=dict(width=2, color='blue'),\n",
        "            text=f\"Route: {row['route_name']}<br>Trips: {row['ntrips']}<br>From: {row['start_stop_name']}<br>To: {row['end_stop_name']}\",\n",
        "            hoverinfo='text'\n",
        "        ))\n",
        "\n",
        "# Create a Plotly figure\n",
        "fig = go.Figure()\n",
        "\n",
        "fig.add_traces(lines)\n",
        "\n",
        "fig.update_layout(\n",
        "    mapbox_style=\"open-street-map\",\n",
        "    mapbox_zoom=12,\n",
        "    mapbox_center={\"lat\": 47.4979, \"lon\": 19.0402},\n",
        "    height=600\n",
        ")\n",
        "\n",
        "fig.show()"
      ]
    },
    {
      "cell_type": "code",
      "execution_count": null,
      "metadata": {
        "colab": {
          "background_save": true
        },
        "id": "-0ScUbmcTpBh"
      },
      "outputs": [],
      "source": [
        "fig, ax = plt.subplots(figsize=(15, 10))\n",
        "m = Basemap(projection='merc', llcrnrlat=47.0, urcrnrlat=48.0, llcrnrlon=18.5, urcrnrlon=19.5, resolution='i', ax=ax)\n",
        "m.drawcoastlines()\n",
        "m.drawcountries()\n",
        "m.drawmapboundary(fill_color='aqua')\n",
        "m.fillcontinents(color='lightgreen', lake_color='aqua')\n",
        "m.drawparallels(range(47, 49), labels=[1,0,0,0])\n",
        "m.drawmeridians(range(18, 20), labels=[0,0,0,1])\n",
        "\n",
        "# Add segments to the map\n",
        "for idx, row in segments_freq.iterrows():\n",
        "    if isinstance(row['geometry'], LineString):\n",
        "        coords = list(row['geometry'].coords)\n",
        "        lons, lats = zip(*coords)\n",
        "        x, y = m(lons, lats)\n",
        "        m.plot(x, y, marker=None, color='b', linewidth=2, label=f\"{row['route_name']} ({row['ntrips']} trips)\")\n",
        "\n",
        "# Add a legend\n",
        "plt.legend(loc='lower left', fontsize='small')\n",
        "\n",
        "plt.title('Budapest Public Transport Segments')\n",
        "plt.show()"
      ]
    },
    {
      "cell_type": "markdown",
      "source": [
        "###Csúcsösszevonás 1"
      ],
      "metadata": {
        "id": "BsBYzEP50IET"
      }
    },
    {
      "cell_type": "code",
      "source": [
        "# Assuming 'stops' is the GeoDataFrame and has columns 'stop_name', 'stop_id', 'geometry'\n",
        "stops_list = []\n",
        "\n",
        "# Step 1: Extract necessary data into a list of [stop_name, stop_id, coordinate]\n",
        "for _, row in stops.iterrows():\n",
        "    stop_name = row['stop_name']\n",
        "    stop_id = row['stop_id']\n",
        "    coordinate = (row['stop_lon'], row['stop_lat'])\n",
        "    stops_list.append([stop_name, stop_id, coordinate])"
      ],
      "metadata": {
        "id": "gHElCShkEQFI"
      },
      "execution_count": null,
      "outputs": []
    },
    {
      "cell_type": "code",
      "source": [
        "def remove_brackets_and_extras(stop_name):\n",
        "    stop_name = re.sub(r'\\(.*?\\)', '', stop_name)  # Remove text in parentheses\n",
        "    stop_name = re.sub(r'\\[.*?\\]', '', stop_name)  # Remove text in square brackets\n",
        "    stop_name = re.sub(r'\\bH\\b', '', stop_name)    # Remove standalone 'H'\n",
        "    stop_name = re.sub(r'\\bM\\b', '', stop_name)    # Remove standalone 'M'\n",
        "    stop_name = stop_name.replace('+', '')         # Remove the '+' sign\n",
        "    return stop_name.strip()"
      ],
      "metadata": {
        "id": "_pIRviVtRhjj"
      },
      "execution_count": null,
      "outputs": []
    },
    {
      "cell_type": "code",
      "source": [
        "# Clean stop names in the stops_list\n",
        "for stop in stops_list:\n",
        "    stop[0] = remove_brackets_and_extras(stop[0])"
      ],
      "metadata": {
        "id": "-PRDuBz8Rsii"
      },
      "execution_count": null,
      "outputs": []
    },
    {
      "cell_type": "code",
      "source": [
        "# Step 3: Create a dictionary with stop_name as keys and lists of [stop_id, coordinate] as values\n",
        "stops_dict = defaultdict(list)\n",
        "for stop_name, stop_id, coord in stops_list:\n",
        "    stops_dict[stop_name].append([stop_id, coord])"
      ],
      "metadata": {
        "id": "jvQzcZmwdfWE"
      },
      "execution_count": null,
      "outputs": []
    },
    {
      "cell_type": "code",
      "source": [
        "def haversine(coord1, coord2):\n",
        "    # Radius of the Earth in meters\n",
        "    R = 6371000\n",
        "\n",
        "    lat1, lon1 = coord1\n",
        "    lat2, lon2 = coord2\n",
        "\n",
        "    # Convert latitude and longitude from degrees to radians\n",
        "    phi1 = math.radians(lat1)\n",
        "    phi2 = math.radians(lat2)\n",
        "    delta_phi = math.radians(lat2 - lat1)\n",
        "    delta_lambda = math.radians(lon2 - lon1)\n",
        "\n",
        "    # Haversine formula\n",
        "    a = math.sin(delta_phi / 2) ** 2 + math.cos(phi1) * math.cos(phi2) * math.sin(delta_lambda / 2) ** 2\n",
        "    c = 2 * math.atan2(math.sqrt(a), math.sqrt(1 - a))\n",
        "\n",
        "    # Distance in meters\n",
        "    distance = R * c\n",
        "    return distance"
      ],
      "metadata": {
        "id": "jAyuyZip_Y8R"
      },
      "execution_count": null,
      "outputs": []
    },
    {
      "cell_type": "code",
      "source": [
        "# Step 4: Group by coordinates within each stop name\n",
        "def group_coordinates_by_distance(entries, threshold=600):\n",
        "    groups = []\n",
        "    for stop_id, coord in entries:\n",
        "        added = False\n",
        "        for group in groups:\n",
        "            if all(haversine(coord, existing_coord[1]) < threshold for existing_coord in group):\n",
        "                group.append([stop_id, coord])\n",
        "                added = True\n",
        "                break\n",
        "        if not added:\n",
        "            groups.append([[stop_id, coord]])\n",
        "    return groups\n",
        "\n",
        "# Create a list to hold all groups of stop_ids and coordinates\n",
        "grouped_by_stop = []\n",
        "\n",
        "# Group coordinates for each stop name\n",
        "for stop_name, entries in stops_dict.items():\n",
        "    groups = group_coordinates_by_distance(entries)\n",
        "    grouped_by_stop.extend(groups)"
      ],
      "metadata": {
        "id": "-0NZMxBwIOTm"
      },
      "execution_count": null,
      "outputs": []
    },
    {
      "cell_type": "code",
      "source": [
        "# Step 5: Calculate average coordinates for each group and replace them in the grouped list\n",
        "def calculate_average_coordinates(groups):\n",
        "    for group in groups:\n",
        "        if not group:\n",
        "            continue\n",
        "        avg_lat = sum(coord[1][1] for coord in group) / len(group)\n",
        "        avg_lon = sum(coord[1][0] for coord in group) / len(group)\n",
        "        average_coord = (avg_lon, avg_lat)\n",
        "        for item in group:\n",
        "            item[1] = average_coord\n",
        "\n",
        "# Apply the average calculation to all groups\n",
        "calculate_average_coordinates(grouped_by_stop)"
      ],
      "metadata": {
        "collapsed": true,
        "id": "ekwadYdgTi9C"
      },
      "execution_count": null,
      "outputs": []
    },
    {
      "cell_type": "code",
      "source": [
        "# The resulting grouped_by_stop list contains lists of [stop_id, average_coordinate]\n",
        "#for group in grouped_by_stop:\n",
        "    #print(group)\n"
      ],
      "metadata": {
        "collapsed": true,
        "id": "iwzMchpCdyg1"
      },
      "execution_count": null,
      "outputs": []
    },
    {
      "cell_type": "code",
      "source": [
        "\"\"\"with open('dict.csv', 'w') as csv_file:\n",
        "    writer = csv.writer(csv_file)\n",
        "    for key, value in filtered_stop_coords_dict.items():\n",
        "       writer.writerow([key, value])\"\"\""
      ],
      "metadata": {
        "id": "-1Mqw_HQ8Imw"
      },
      "execution_count": null,
      "outputs": []
    },
    {
      "cell_type": "code",
      "source": [
        "# Create a dictionary to store stop_id as keys and average coordinates as values\n",
        "average_coords_dict = {}\n",
        "\n",
        "# Iterate through the grouped_by_stop list to fill the dictionary\n",
        "for group in grouped_by_stop:\n",
        "    for stop_id, avg_coord in group:\n",
        "        average_coords_dict[stop_id] = avg_coord"
      ],
      "metadata": {
        "id": "ip9M-feJ2yJR"
      },
      "execution_count": null,
      "outputs": []
    },
    {
      "cell_type": "code",
      "source": [
        "# Function to update the geometry of each row\n",
        "def update_geometry(row):\n",
        "    # Get the original LineString\n",
        "    line = row['geometry']\n",
        "\n",
        "    # Look up the average coordinates using the stop IDs\n",
        "    start_coord = average_coords_dict.get(row['start_stop_id'])\n",
        "    end_coord = average_coords_dict.get(row['end_stop_id'])\n",
        "\n",
        "    # If coordinates are found, update the LineString\n",
        "    if start_coord and end_coord:\n",
        "        # Create a new LineString with updated start and end coordinates\n",
        "        new_coords = [start_coord] + list(line.coords[1:-1]) + [end_coord]\n",
        "        return LineString(new_coords)\n",
        "    else:\n",
        "        # If not found, return the original LineString\n",
        "        return line\n",
        "\n",
        "seq_copy = copy.deepcopy(segments_freq)\n",
        "seq_copy['geometry'] = seq_copy.apply(update_geometry, axis=1)"
      ],
      "metadata": {
        "id": "hIP3X2oM0gEh"
      },
      "execution_count": null,
      "outputs": []
    },
    {
      "cell_type": "code",
      "source": [
        "G4 = nx.DiGraph()\n",
        "add_edges_with_weights2(G4, seq_copy)\n",
        "#G4.nodes()\n",
        "r = create_folium_map2(G4)\n",
        "r"
      ],
      "metadata": {
        "id": "D9YyoNaIhEiq"
      },
      "execution_count": null,
      "outputs": []
    },
    {
      "cell_type": "code",
      "source": [
        "def add_edges_with_weights3(G, gdf):\n",
        "    for idx, row in gdf.iterrows():\n",
        "        # Extract start and end coordinates\n",
        "        start_coords = (row['start_new_coord'][0], row['start_new_coord'][1])\n",
        "        end_coords = (row['end_new_coord'][0], row['end_new_coord'][1])\n",
        "        #print(start_coords)\n",
        "        #print(end_coords)\n",
        "        ntrips_capacity = row['ntrips'] * row['capacity']\n",
        "\n",
        "        if row['direction_id'] == 0:\n",
        "            if G.has_edge(start_coords, end_coords):\n",
        "                # If the edge exists, update the weight\n",
        "                G[start_coords][end_coords]['weight'] += ntrips_capacity\n",
        "                G[start_coords][end_coords]['ntrips_capacity'] += ntrips_capacity\n",
        "            else:\n",
        "                # If the edge does not exist, add it with the new weight and attributes\n",
        "                G.add_edge(start_coords, end_coords, weight=ntrips_capacity, route_name=row['route_name'], ntrips_capacity=ntrips_capacity)\n",
        "        elif row['direction_id'] == 1:\n",
        "            if G.has_edge(end_coords, start_coords):\n",
        "                # If the edge exists, update the weight\n",
        "                G[end_coords][start_coords]['weight'] += ntrips_capacity\n",
        "                G[end_coords][start_coords]['ntrips_capacity'] += ntrips_capacity\n",
        "            else:\n",
        "                # If the edge does not exist, add it with the new weight and attributes\n",
        "                G.add_edge(end_coords, start_coords, weight=ntrips_capacity, route_name=row['route_name'], ntrips_capacity=ntrips_capacity)"
      ],
      "metadata": {
        "id": "pT7IJnYXLmFI"
      },
      "execution_count": null,
      "outputs": []
    },
    {
      "cell_type": "code",
      "source": [
        "def create_folium_map3(G):\n",
        "     # Create a folium map centered around Budapest\n",
        "    m = folium.Map(location=[47.4979, 19.0402], zoom_start=12)\n",
        "\n",
        "    # Add edges to the folium map with tooltips\n",
        "    for u, v, data in G.edges(data=True):\n",
        "        # Create the coordinates list for the PolyLine\n",
        "        coords = [u, v]\n",
        "\n",
        "        # Create the tooltip text\n",
        "        capacity = data.get('ntrips_capacity', 'N/A')\n",
        "        tooltip_text = f\"Capacity: {capacity}\"\n",
        "\n",
        "        # Add the PolyLine to the map with the tooltip\n",
        "        folium.PolyLine(coords, color='blue', weight=2.5, opacity=1, tooltip=tooltip_text).add_to(m)\n",
        "\n",
        "        # Debugging statement to verify coordinates being added to the map\n",
        "        #print(f\"Adding line from {u} to {v} with capacity: {capacity}\")\n",
        "\n",
        "    # Add nodes to the folium map\n",
        "    for node in G.nodes():\n",
        "        folium.CircleMarker(location=node, radius=2, color='red').add_to(m)\n",
        "        # Debugging statement to verify nodes being added to the map\n",
        "        #print(f\"Adding node at location: {node}\")\n",
        "\n",
        "    return m"
      ],
      "metadata": {
        "id": "BCX5EcZUNbkl"
      },
      "execution_count": null,
      "outputs": []
    },
    {
      "cell_type": "code",
      "source": [
        "G5 = nx.DiGraph()\n",
        "add_edges_with_weights3(G5, seq_copy)\n",
        "G5.nodes()"
      ],
      "metadata": {
        "id": "UE2tAP-OCBpU",
        "collapsed": true
      },
      "execution_count": null,
      "outputs": []
    },
    {
      "cell_type": "code",
      "source": [
        "r = create_folium_map3(G5)\n",
        "r"
      ],
      "metadata": {
        "id": "iy5Ot3-ACBrr"
      },
      "execution_count": null,
      "outputs": []
    },
    {
      "cell_type": "markdown",
      "source": [
        "###Zónák és OD mátrix"
      ],
      "metadata": {
        "id": "ZOGgPufjDSt3"
      }
    },
    {
      "cell_type": "code",
      "source": [
        "sf = shp.Reader(\"zone_zone.shp\")\n",
        "#print(type(sf))"
      ],
      "metadata": {
        "id": "uEy5w_tpDVxW"
      },
      "execution_count": null,
      "outputs": []
    },
    {
      "cell_type": "code",
      "source": [
        "def read_shapefile_df(sf):\n",
        "    \"\"\"\n",
        "    Read a shapefile into a Pandas dataframe with a 'coords'\n",
        "    column holding the geometry information. This uses the pyshp\n",
        "    package\n",
        "    \"\"\"\n",
        "    fields = [x[0] for x in sf.fields][1:]\n",
        "    records = sf.records()\n",
        "    shps = [s.points for s in sf.shapes()]\n",
        "    df = pd.DataFrame(columns=fields, data=records)\n",
        "    df = df.assign(coords=shps)\n",
        "    return df"
      ],
      "metadata": {
        "id": "NZ7lxezXDwj3"
      },
      "execution_count": null,
      "outputs": []
    },
    {
      "cell_type": "code",
      "source": [
        "def read_shapefile_gdf(sf):\n",
        "    \"\"\"\n",
        "    Read a shapefile into a GeoDataFrame.\n",
        "    \"\"\"\n",
        "    # Extract the fields and records\n",
        "    fields = [x[0] for x in sf.fields][1:]\n",
        "    records = sf.records()\n",
        "\n",
        "    # Extract the shapes and convert them to shapely geometries\n",
        "    geometries = []\n",
        "    for shape in sf.shapes():\n",
        "        if len(shape.points) == 1:  # Point\n",
        "            geometries.append(Point(shape.points[0]))\n",
        "        else:  # Polygon\n",
        "            geometries.append(Polygon(shape.points))\n",
        "\n",
        "    # Create a GeoDataFrame\n",
        "    df = gpd.GeoDataFrame(columns=fields, data=records)\n",
        "    df = df.assign(geometry=geometries)\n",
        "\n",
        "    return df"
      ],
      "metadata": {
        "id": "t626mk74Ig-7"
      },
      "execution_count": null,
      "outputs": []
    },
    {
      "cell_type": "code",
      "source": [
        "df = read_shapefile_gdf(sf)\n",
        "df"
      ],
      "metadata": {
        "id": "Bj8oqxVUDwmG"
      },
      "execution_count": null,
      "outputs": []
    },
    {
      "cell_type": "code",
      "source": [
        "def plot_map(sf, df, x_lim=None, y_lim=None, figsize=(17, 11), filtered_ids=None):\n",
        "    '''\n",
        "    Plot map with lim coordinates and colored shapes based on 'NO' attribute.\n",
        "    '''\n",
        "    plt.figure(figsize=figsize)\n",
        "    id = 0\n",
        "\n",
        "    cmap = plt.get_cmap('viridis')\n",
        "    norm = plt.Normalize(df['NO'].min(), df['NO'].max())\n",
        "\n",
        "    for shape in sf.shapeRecords():\n",
        "        if filtered_ids is not None and id not in filtered_ids:\n",
        "            id += 1\n",
        "            continue\n",
        "        x = [i[0] for i in shape.shape.points[:]]\n",
        "        y = [i[1] for i in shape.shape.points[:]]\n",
        "        color = cmap(norm(df.loc[id, 'NO']))\n",
        "        plt.fill(x, y, color=color, edgecolor='k')\n",
        "\n",
        "        if x_lim is None and y_lim is None:\n",
        "            x0 = np.mean(x)\n",
        "            y0 = np.mean(y)\n",
        "            plt.text(x0, y0, id, fontsize=10)\n",
        "        id += 1\n",
        "\n",
        "    if x_lim is not None and y_lim is not None:\n",
        "        plt.xlim(x_lim)\n",
        "        plt.ylim(y_lim)\n",
        "\n",
        "    sm = plt.cm.ScalarMappable(cmap=cmap, norm=norm)\n",
        "    sm.set_array([])\n",
        "    plt.colorbar(sm, orientation='vertical', label='NO Attribute')\n",
        "\n",
        "    plt.show()\n"
      ],
      "metadata": {
        "id": "clwYiHYhDwoW"
      },
      "execution_count": null,
      "outputs": []
    },
    {
      "cell_type": "code",
      "source": [
        "# Filter dataframe based on 'NO' attribute\n",
        "filtered_df = df[(df['NO'] >= 1000) & (df['NO'] <= 23999)]\n",
        "filtered_ids = filtered_df.index.tolist()\n",
        "\n",
        "print(filtered_df.shape)  # Print the shape of the filtered dataframe\n",
        "\n",
        "# Plot the filtered map with colors\n",
        "plot_map(sf, filtered_df, filtered_ids=filtered_ids)"
      ],
      "metadata": {
        "id": "XoI_HFPmDwq-"
      },
      "execution_count": null,
      "outputs": []
    },
    {
      "cell_type": "code",
      "source": [
        "filtered_df\n",
        "print(type(filtered_df))"
      ],
      "metadata": {
        "id": "iO-VWN4tHY5P"
      },
      "execution_count": null,
      "outputs": []
    },
    {
      "cell_type": "code",
      "source": [
        "geom = copy.deepcopy(segments_freq)\n",
        "geom.head(2)"
      ],
      "metadata": {
        "id": "X55_iFZrHY7e"
      },
      "execution_count": null,
      "outputs": []
    },
    {
      "cell_type": "code",
      "source": [
        "if geom.crs is None:\n",
        "    # Replace 'EPSG:4326' with the correct CRS if known\n",
        "    geom.set_crs(epsg=4326, inplace=True)\n",
        "\n",
        "# Define the path to the shapefile\n",
        "shapefile_path = 'zone_zone.SHP'\n",
        "\n",
        "# Check if the shapefile exists\n",
        "if not os.path.exists(shapefile_path):\n",
        "    raise FileNotFoundError(f\"Shapefile not found: {shapefile_path}\")\n",
        "\n",
        "# Load the shapefile using Fiona\n",
        "with fiona.open(shapefile_path) as shapefile:\n",
        "    # Ensure shapefile has a CRS\n",
        "    if shapefile.crs is None:\n",
        "        # Replace 'EPSG:4326' with the correct CRS if known\n",
        "        shapefile_crs = 'EPSG:4326'\n",
        "    else:\n",
        "        shapefile_crs = shapefile.crs\n",
        "\n",
        "    # Convert the shapefile features to GeoDataFrame\n",
        "    shapefile_gdf = gpd.GeoDataFrame.from_features(shapefile, crs=shapefile_crs)\n",
        "\n",
        "    # Filter the shapefile GeoDataFrame based on the 'NO' attribute\n",
        "    shapefile_filtered = shapefile_gdf[(shapefile_gdf['NO'] >= 1000) & (shapefile_gdf['NO'] <= 23999)]\n",
        "\n",
        "    # Ensure CRS match\n",
        "    if shapefile_filtered.crs != geom.crs:\n",
        "        shapefile_filtered = shapefile_filtered.to_crs(geom.crs)\n",
        "\n",
        "    # Initialize the new columns with None values\n",
        "    geom['first_coord_shape_index'] = None\n",
        "    geom['second_coord_shape_index'] = None\n",
        "\n",
        "    # Convert filtered shapes to Shapely geometries\n",
        "    filtered_shapes = [(shape(geom_shape), shape_id) for geom_shape, shape_id in zip(shapefile_filtered.geometry, shapefile_filtered.index)]\n",
        "\n",
        "    # Iterate through the rows of the GeoDataFrame\n",
        "    for idx, row in geom.iterrows():\n",
        "        # Extract the coordinates from the geometry column\n",
        "        coords = list(row.geometry.coords)\n",
        "        first_coord = Point(coords[0])\n",
        "        second_coord = Point(coords[-1])\n",
        "        \"\"\"if idx <= 10:\n",
        "          print(coords)\n",
        "          print(first_coord)\n",
        "          print(second_coord)\"\"\"\n",
        "\n",
        "        # Check which shape the first coordinate falls within\n",
        "        first_match = next((shape_id for geom_shape, shape_id in filtered_shapes if geom_shape.contains(first_coord)), None)\n",
        "        geom.at[idx, 'first_coord_shape_index'] = first_match\n",
        "\n",
        "        # Check which shape the second coordinate falls within\n",
        "        second_match = next((shape_id for geom_shape, shape_id in filtered_shapes if geom_shape.contains(second_coord)), None)\n",
        "        geom.at[idx, 'second_coord_shape_index'] = second_match"
      ],
      "metadata": {
        "id": "FJ25gdpkHY9m"
      },
      "execution_count": null,
      "outputs": []
    },
    {
      "cell_type": "code",
      "source": [
        "geom.head(2)"
      ],
      "metadata": {
        "id": "H6VDqWP1HY_u"
      },
      "execution_count": null,
      "outputs": []
    },
    {
      "cell_type": "code",
      "source": [
        "geom.drop(columns=['route_id', 'direction_id', 'segment_name', 'window', 'min_per_trip', 'start_stop_id', 'end_stop_id', 'segment_id', 'geometry']).to_csv('geom.csv')\n",
        "from google.colab import files\n",
        "files.download('geom.csv')"
      ],
      "metadata": {
        "id": "Vh3Cq3Y1SaQ5"
      },
      "execution_count": null,
      "outputs": []
    },
    {
      "cell_type": "code",
      "source": [
        "# Initialize the matrix\n",
        "matrix_size = len(shapefile_filtered)\n",
        "matrix_cap = np.zeros((matrix_size, matrix_size))\n",
        "\n",
        "# Populate the matrix based on geom rows\n",
        "for idx, row in geom.iterrows():\n",
        "    first_index = row['first_coord_shape_index']\n",
        "    second_index = row['second_coord_shape_index']\n",
        "    if first_index is not None and second_index is not None and first_index <= 921 and second_index <= 921:\n",
        "      matrix_cap[first_index, second_index] += row['ntrips'] * row['capacity']\n",
        "matrix_cap"
      ],
      "metadata": {
        "id": "eFenQQkPXxef"
      },
      "execution_count": null,
      "outputs": []
    },
    {
      "cell_type": "code",
      "source": [
        "matrix_trip = np.zeros((matrix_size, matrix_size))\n",
        "for idx, row in geom.iterrows():\n",
        "    first_index = row['first_coord_shape_index']\n",
        "    second_index = row['second_coord_shape_index']\n",
        "    if first_index is not None and second_index is not None and first_index <= 921 and second_index <= 921:\n",
        "      matrix_trip[first_index, second_index] += row['ntrips']\n",
        "matrix_trip"
      ],
      "metadata": {
        "id": "ZTy1vDK6Xxgm"
      },
      "execution_count": null,
      "outputs": []
    }
  ],
  "metadata": {
    "accelerator": "GPU",
    "colab": {
      "gpuType": "T4",
      "provenance": []
    },
    "kernelspec": {
      "display_name": "Python 3",
      "name": "python3"
    },
    "language_info": {
      "name": "python"
    }
  },
  "nbformat": 4,
  "nbformat_minor": 0
}